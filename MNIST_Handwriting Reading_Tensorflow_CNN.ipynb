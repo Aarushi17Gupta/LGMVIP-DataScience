{
 "cells": [
  {
   "cell_type": "markdown",
   "id": "0dabf98e",
   "metadata": {},
   "source": [
    "# LetsGrowMore VIP in Data Science\n",
    "## Batch: November- 2021\n",
    "## Author: Aarushi Gupta\n",
    "## Task 4- Advanced Level Task\n",
    "## Develop a Neural Network that can read Handwriting \n",
    "\n",
    "##### The dataset is called MNIST and refers to handwritten digit recognition. You can find more about it on Yann LeCun's website (Director of AI Research, Facebook). He is one of the pioneers of what we've been talking about and of more complex approaches that are widely used today, such as covolutional neural networks (CNNs).\n",
    "\n",
    "##### The dataset provides 70,000 images (28x28 pixels) of handwritten digits (1 digit per image).\n",
    "\n",
    "##### The goal is to write an algorithm that detects which digit is written. Since there are only 10 digits (0, 1, 2, 3, 4, 5, 6, 7, 8, 9), this is a classification problem with 10 classes.\n",
    "\n",
    "##### Begin by neural network machine learning project using the MNIST handwritten digit classification and using Tensorflow and CNN to find the accuracy of the model"
   ]
  },
  {
   "cell_type": "markdown",
   "id": "13a2aafb",
   "metadata": {},
   "source": [
    "### Importing the relevent libraries"
   ]
  },
  {
   "cell_type": "code",
   "execution_count": 1,
   "id": "64bea224",
   "metadata": {},
   "outputs": [],
   "source": [
    "import numpy as np\n",
    "# Importing tensorflow for neural networks and deep learning tasks\n",
    "import tensorflow as tf\n",
    "import tensorflow_datasets as tfds"
   ]
  },
  {
   "cell_type": "markdown",
   "id": "025a7cc1",
   "metadata": {},
   "source": [
    "### Loading the dataset"
   ]
  },
  {
   "cell_type": "code",
   "execution_count": 2,
   "id": "8bdb1e14",
   "metadata": {},
   "outputs": [],
   "source": [
    "# tfds.load actually loads a dataset (or downloads and then loads if that's the first time you use it) \n",
    "#loading the mnist dataset\n",
    "mnist_dataset, mnist_info=tfds.load(name='mnist',with_info=True,as_supervised=True)\n",
    "# with_info=True will also provide us with a tuple containing information about the version, features, number of samples\n",
    "# as_supervised=True will load the dataset in a 2-tuple structure (input, target)"
   ]
  },
  {
   "cell_type": "code",
   "execution_count": 3,
   "id": "ec2415b7",
   "metadata": {},
   "outputs": [],
   "source": [
    "# once we have loaded the dataset, we can easily extract the training and testing dataset with the built references\n",
    "mnist_train, mnist_test=mnist_dataset['train'],mnist_dataset['test']"
   ]
  },
  {
   "cell_type": "code",
   "execution_count": 4,
   "id": "f4f0ac36",
   "metadata": {},
   "outputs": [
    {
     "data": {
      "text/html": [
       "<style type=\"text/css\">\n",
       "</style>\n",
       "<table id=\"T_86e2a_\">\n",
       "  <thead>\n",
       "    <tr>\n",
       "      <th class=\"blank level0\" >&nbsp;</th>\n",
       "      <th class=\"col_heading level0 col0\" >image</th>\n",
       "      <th class=\"col_heading level0 col1\" >label</th>\n",
       "    </tr>\n",
       "  </thead>\n",
       "  <tbody>\n",
       "    <tr>\n",
       "      <th id=\"T_86e2a_level0_row0\" class=\"row_heading level0 row0\" >0</th>\n",
       "      <td id=\"T_86e2a_row0_col0\" class=\"data row0 col0\" ><img src=\"data:image/png;base64,iVBORw0KGgoAAAANSUhEUgAAABwAAAAcCAAAAABXZoBIAAAAzElEQVR4nGNgGPQg5F8qjMmEIRn1XwinRvnvp2QxdTIyMjAwMDDksd17jCnpeN6CgYGBQZfhAhbzLP+WMzAwyPz8IAkXQuh8ycDAwMAQyHr1ORZJYQYGBgYGKYYDDFgkAxgZGBikMxnnISQZYQz2J0KXjwvpqV00+YfpnsS/f//++/v3bxiSGAuMYfp97rN3b1cz7MDiEQgI+bcGmYsatlH/T+PUyPD2jwVOOaOP23Br3P3vZyZOO///v7qGARd4/EkBt7FvbuOWoyIAAPBxN9oBRuu9AAAAAElFTkSuQmCC\" alt=\"Img\" /></td>\n",
       "      <td id=\"T_86e2a_row0_col1\" class=\"data row0 col1\" >4</td>\n",
       "    </tr>\n",
       "    <tr>\n",
       "      <th id=\"T_86e2a_level0_row1\" class=\"row_heading level0 row1\" >1</th>\n",
       "      <td id=\"T_86e2a_row1_col0\" class=\"data row1 col0\" ><img src=\"data:image/png;base64,iVBORw0KGgoAAAANSUhEUgAAABwAAAAcCAAAAABXZoBIAAAAmklEQVR4nGNgGOyAc/5KJlxyjIv+/TPEJan9798HWRgH3YhQBoZHj3HpfP/vVxQuOYF//54ieGjGNjEwXMalkeHbv3+eeCTfseAy1oCVYeofXBp3/f8lgUtO/su/azhtnPLvXwJOycv//uGU0//5bx1OySP//hngkuN5+u8tG4oIkj/VJBmO/8Il6cvAMBunlSIvX3DjlKQmAACHtTHZmy2LVAAAAABJRU5ErkJggg==\" alt=\"Img\" /></td>\n",
       "      <td id=\"T_86e2a_row1_col1\" class=\"data row1 col1\" >1</td>\n",
       "    </tr>\n",
       "    <tr>\n",
       "      <th id=\"T_86e2a_level0_row2\" class=\"row_heading level0 row2\" >2</th>\n",
       "      <td id=\"T_86e2a_row2_col0\" class=\"data row2 col0\" ><img src=\"data:image/png;base64,iVBORw0KGgoAAAANSUhEUgAAABwAAAAcCAAAAABXZoBIAAAA+0lEQVR4nM3QvyuEARzH8feVniSFiTBcKf8A85ESNqwkdbeY5NdmY/UXiM0z+Ad0SXZ1g0vJjw0Xi86pc13eD8NleJ47q3zG76tv3x/wJxk+jQ7bf8NldT9obdNl1fWW1nGh6mtLPIm0oJVWlvuIvOvMWx1qtqWa0U2aULNNNnCtT+MQapi0waK6CoR6mcS8Wuhq4Fqj1PZjU5NQnX0DUine433dD1qZBwjOrM/EsVc9AmCj6c5MWT8XADjX2mgMi+otABN1k0/YVncAFu/VLWLbPgNBduRxLBMQHe/FZ+Zs5EtLm8kP9F81MHrZTScNelZK6sFcXzP9o3wDadaKxdoXqEQAAAAASUVORK5CYII=\" alt=\"Img\" /></td>\n",
       "      <td id=\"T_86e2a_row2_col1\" class=\"data row2 col1\" >0</td>\n",
       "    </tr>\n",
       "    <tr>\n",
       "      <th id=\"T_86e2a_level0_row3\" class=\"row_heading level0 row3\" >3</th>\n",
       "      <td id=\"T_86e2a_row3_col0\" class=\"data row3 col0\" ><img src=\"data:image/png;base64,iVBORw0KGgoAAAANSUhEUgAAABwAAAAcCAAAAABXZoBIAAAA40lEQVR4nGNgGJpg//8OdCEWKM2obvgv/++6/zcZnJQebPuNqkjvLxI4IIgiJ3/v79/3b//9/fvv7993f/9NQzE2TZ6hc8J3JwYGBgaGK7cYeJE12n79+1cCxlH9+/cVB5LOlxy/pryHSUYyMO78gSR5W/vzU7gxfAz/cfq36fvfDw445Fr+/P3bg12KMebb37+7WbDKKSz89/fvNRmscjpb//79u0YBq5z0yb9//2bhcEvXv78fs1ixyzX//PsuHYc+gbvwAMcEmX//3kFzJxOc9YCRoesJLp3sx9+p4JIjGQAAnrpmBs0pxioAAAAASUVORK5CYII=\" alt=\"Img\" /></td>\n",
       "      <td id=\"T_86e2a_row3_col1\" class=\"data row3 col1\" >7</td>\n",
       "    </tr>\n",
       "    <tr>\n",
       "      <th id=\"T_86e2a_level0_row4\" class=\"row_heading level0 row4\" >4</th>\n",
       "      <td id=\"T_86e2a_row4_col0\" class=\"data row4 col0\" ><img src=\"data:image/png;base64,iVBORw0KGgoAAAANSUhEUgAAABwAAAAcCAAAAABXZoBIAAABRUlEQVR4nM2RMUgCcRTGvwvFjjiuhqgIpG4Kg8QaQi6aWoo2JXAot6ZokxwdGxybWjJoapLCQRoaJBKkoIJuKDc7DAruIEmH967hvPJ/Nkdv+vh+fI//+/7Afxglyy+qK6UeW1MSg5p2twVp4lUMhGYuLSYiJiIec72AlzqNAVf1klUGYLaF3BqzXdQBbLJtc0Fgsx26ngQARA72miQLMEU08qM/PDkAAIgBC56TQV58apSZ+ex4Pw6k2fQdHly9fSYi7phmi6pRz/4uQZleVyUnPSo5wEPmAv2zYlFto9BgS+tnuRZXNGCJec6PgiWmExXALt8HRDS+U3n6zMkAhgxOCUg+YqJyEgAQp4bayxZr7OS7HYXfebtru8sT8w4MJQwAena4fihsjRjE9Ob+Zftc8ZUQWtan5KTkPN40i9VfCvi7+QIpz4HjFNztwwAAAABJRU5ErkJggg==\" alt=\"Img\" /></td>\n",
       "      <td id=\"T_86e2a_row4_col1\" class=\"data row4 col1\" >8</td>\n",
       "    </tr>\n",
       "    <tr>\n",
       "      <th id=\"T_86e2a_level0_row5\" class=\"row_heading level0 row5\" >5</th>\n",
       "      <td id=\"T_86e2a_row5_col0\" class=\"data row5 col0\" ><img src=\"data:image/png;base64,iVBORw0KGgoAAAANSUhEUgAAABwAAAAcCAAAAABXZoBIAAAAq0lEQVR4nGNgGHjAfvqtEU5Jib9/L7LDOExokvUMDHyiODQG/fv7dyuch6ZTg4HhWTIuK6/9+1uL4KHqjFRlYHiMS+PVv/9e8OHSKcjAMOETDo2xf/5+ZkXisyBLujAx/P6NQ6Phu79/q5AFkO1U4Wdg2IJLkoGBgcEah6kMa/7+/YviVmSdSuiq0Y1dj8NU++9//57HpZOLjYFhK4okUiDsLnS5ewiXY+kGAAwdLIh/5zVbAAAAAElFTkSuQmCC\" alt=\"Img\" /></td>\n",
       "      <td id=\"T_86e2a_row5_col1\" class=\"data row5 col1\" >1</td>\n",
       "    </tr>\n",
       "  </tbody>\n",
       "</table>\n"
      ],
      "text/plain": [
       "                                               image  label\n",
       "0  [[[0], [0], [0], [0], [0], [0], [0], [0], [0],...      4\n",
       "1  [[[0], [0], [0], [0], [0], [0], [0], [0], [0],...      1\n",
       "2  [[[0], [0], [0], [0], [0], [0], [0], [0], [0],...      0\n",
       "3  [[[0], [0], [0], [0], [0], [0], [0], [0], [0],...      7\n",
       "4  [[[0], [0], [0], [0], [0], [0], [0], [0], [0],...      8\n",
       "5  [[[0], [0], [0], [0], [0], [0], [0], [0], [0],...      1"
      ]
     },
     "execution_count": 4,
     "metadata": {},
     "output_type": "execute_result"
    }
   ],
   "source": [
    "#visualizing the dataframe which contains the training dataset\n",
    "tfds.as_dataframe(mnist_train.take(6),mnist_info)"
   ]
  },
  {
   "cell_type": "code",
   "execution_count": 5,
   "id": "6b746318",
   "metadata": {},
   "outputs": [
    {
     "data": {
      "image/png": "[encoded data removed]",
      "text/plain": [
       "<Figure size 648x648 with 9 Axes>"
      ]
     },
     "metadata": {},
     "output_type": "display_data"
    }
   ],
   "source": [
    "fig = tfds.show_examples(mnist_train, mnist_info)"
   ]
  },
  {
   "cell_type": "code",
   "execution_count": 6,
   "id": "168061ab",
   "metadata": {},
   "outputs": [],
   "source": [
    "# by default, TF has training and testing datasets, but no validation sets\n",
    "# thus we must split it on our own\n",
    "# we start by defining the number of validation samples as a % of the train samples\n",
    "# this is also where we make use of mnist_info (we don't have to count the observations)\n",
    "num_validation_samples=0.1*mnist_info.splits['train'].num_examples\n",
    "num_validation_samples=tf.cast(num_validation_samples,tf.int64)"
   ]
  },
  {
   "cell_type": "code",
   "execution_count": 7,
   "id": "eece2a52",
   "metadata": {},
   "outputs": [],
   "source": [
    "# let's also store the number of test samples in a dedicated variable (instead of using the mnist_info one)\n",
    "num_test_samples=mnist_info.splits['test'].num_examples\n",
    "# once more, we'd prefer an integer (rather than the default float)\n",
    "num_test_samples=tf.cast(num_test_samples,tf.int64)"
   ]
  },
  {
   "cell_type": "markdown",
   "id": "99aa70bb",
   "metadata": {},
   "source": [
    "### Scaling the dataset"
   ]
  },
  {
   "cell_type": "code",
   "execution_count": 8,
   "id": "cb92381f",
   "metadata": {},
   "outputs": [],
   "source": [
    "# normally, we would like to scale our data in some way to make the result more numerically stable\n",
    "# in this case we will simply prefer to have inputs between 0 and 1\n",
    "# let's define a function called: scale, that will take an MNIST image and its label\n",
    "def scale(image,label):\n",
    "    image=tf.cast(image,tf.float32)\n",
    "    image/=255\n",
    "    return image,label"
   ]
  },
  {
   "cell_type": "code",
   "execution_count": 9,
   "id": "bc350edf",
   "metadata": {},
   "outputs": [],
   "source": [
    "# the method .map() allows us to apply a custom transformation to a given dataset \n",
    "scaled_train_validation_data=mnist_train.map(scale)\n",
    "# for the test data\n",
    "test_data=mnist_test.map(scale)"
   ]
  },
  {
   "cell_type": "markdown",
   "id": "91848041",
   "metadata": {},
   "source": [
    "### Buffer Size"
   ]
  },
  {
   "cell_type": "code",
   "execution_count": 10,
   "id": "d4d6b581",
   "metadata": {},
   "outputs": [],
   "source": [
    "# this BUFFER_SIZE parameter is here for cases when we're dealing with enormous datasets\n",
    "BUFFER_SIZE=10000"
   ]
  },
  {
   "cell_type": "code",
   "execution_count": 11,
   "id": "bb1e209d",
   "metadata": {},
   "outputs": [],
   "source": [
    "# shuffling the data\n",
    "shuffled_train_validation_data=scaled_train_validation_data.shuffle(BUFFER_SIZE)"
   ]
  },
  {
   "cell_type": "code",
   "execution_count": 12,
   "id": "64c23102",
   "metadata": {},
   "outputs": [],
   "source": [
    "# our validation data would be equal to 10% of the training set, which we've already calculated\n",
    "# we use the .take() method to take that many samples\n",
    "validation_data=shuffled_train_validation_data.take(num_validation_samples)\n",
    "train_data=shuffled_train_validation_data.skip(num_validation_samples)"
   ]
  },
  {
   "cell_type": "code",
   "execution_count": 13,
   "id": "f65e26f0",
   "metadata": {},
   "outputs": [],
   "source": [
    "# determine the batch size\n",
    "BATCH_SIZE=100\n",
    "train_data=train_data.batch(BATCH_SIZE)\n",
    "validation_data=validation_data.batch(num_validation_samples)\n",
    "test_data=test_data.batch(num_test_samples)"
   ]
  },
  {
   "cell_type": "code",
   "execution_count": 14,
   "id": "71b5adb3",
   "metadata": {},
   "outputs": [
    {
     "data": {
      "text/plain": [
       "TensorShape([6000, 28, 28, 1])"
      ]
     },
     "execution_count": 14,
     "metadata": {},
     "output_type": "execute_result"
    }
   ],
   "source": [
    "# takes next batch (it is the only batch)\n",
    "# because as_supervized=True, we've got a 2-tuple structure\n",
    "validation_inputs,validation_targets=next(iter(validation_data))\n",
    "validation_inputs.shape"
   ]
  },
  {
   "cell_type": "markdown",
   "id": "da19be34",
   "metadata": {},
   "source": [
    "### Building the model"
   ]
  },
  {
   "cell_type": "code",
   "execution_count": 15,
   "id": "b0f252f4",
   "metadata": {},
   "outputs": [],
   "source": [
    "# Building the model\n",
    "input_size=784\n",
    "output_size=10\n",
    "hidden_layer_size=50\n",
    "\n",
    "model=tf.keras.Sequential([\n",
    "                            # first input layer, it is a tensor of rank 3- convert to vector\n",
    "                            tf.keras.layers.Flatten(input_shape=(28,28,1)),\n",
    "                            # 1st hidden layer \n",
    "                            tf.keras.layers.Dense(hidden_layer_size, activation='relu'),\n",
    "                            # 2nd hidden layer\n",
    "                            tf.keras.layers.Dense(hidden_layer_size, activation='relu'),\n",
    "                            # Final layer\n",
    "                            tf.keras.layers.Dense(output_size, activation='softmax')\n",
    "                        ])"
   ]
  },
  {
   "cell_type": "code",
   "execution_count": 16,
   "id": "100f2680",
   "metadata": {},
   "outputs": [],
   "source": [
    "# choose the optimizer and the loss function\n",
    "model.compile(optimizer='adam', loss='sparse_categorical_crossentropy', metrics=['accuracy'])"
   ]
  },
  {
   "cell_type": "code",
   "execution_count": 17,
   "id": "895ad9b3",
   "metadata": {},
   "outputs": [
    {
     "name": "stdout",
     "output_type": "stream",
     "text": [
      "Epoch 1/5\n",
      "540/540 - 7s - loss: 0.4073 - accuracy: 0.8837 - val_loss: 0.2044 - val_accuracy: 0.9408\n",
      "Epoch 2/5\n",
      "540/540 - 3s - loss: 0.1778 - accuracy: 0.9481 - val_loss: 0.1458 - val_accuracy: 0.9573\n",
      "Epoch 3/5\n",
      "540/540 - 3s - loss: 0.1332 - accuracy: 0.9612 - val_loss: 0.1191 - val_accuracy: 0.9645\n",
      "Epoch 4/5\n",
      "540/540 - 3s - loss: 0.1087 - accuracy: 0.9679 - val_loss: 0.1016 - val_accuracy: 0.9697\n",
      "Epoch 5/5\n",
      "540/540 - 3s - loss: 0.0909 - accuracy: 0.9728 - val_loss: 0.0913 - val_accuracy: 0.9725\n"
     ]
    },
    {
     "data": {
      "text/plain": [
       "<keras.callbacks.History at 0x16455bc58b0>"
      ]
     },
     "execution_count": 17,
     "metadata": {},
     "output_type": "execute_result"
    }
   ],
   "source": [
    "# Training\n",
    "NUM_EPOCHS=5\n",
    "model.fit(train_data,epochs=NUM_EPOCHS,validation_data=(validation_inputs,validation_targets),verbose=2)"
   ]
  },
  {
   "cell_type": "markdown",
   "id": "32236f0c",
   "metadata": {},
   "source": [
    "### Testing the model\n",
    "\n",
    "after training on the training data and validating on the validation data, we test the final prediction power of our model by running it on the test dataset that the algorithm has NEVER seen before.\n",
    "\n",
    "It is very important to realize that fiddling with the hyperparameters overfits the validation dataset."
   ]
  },
  {
   "cell_type": "code",
   "execution_count": 18,
   "id": "183ad0d1",
   "metadata": {},
   "outputs": [
    {
     "name": "stdout",
     "output_type": "stream",
     "text": [
      "1/1 [==============================] - 1s 1s/step - loss: 0.1025 - accuracy: 0.9690\n"
     ]
    }
   ],
   "source": [
    "test_loss,test_accuracy=model.evaluate(test_data)"
   ]
  },
  {
   "cell_type": "code",
   "execution_count": 19,
   "id": "934a9e4d",
   "metadata": {},
   "outputs": [
    {
     "name": "stdout",
     "output_type": "stream",
     "text": [
      "Test loss: 0.10. Test accuracy: 96.90%\n"
     ]
    }
   ],
   "source": [
    "# We can apply some nice formatting if we want to\n",
    "print('Test loss: {0:.2f}. Test accuracy: {1:.2f}%'.format(test_loss, test_accuracy*100.))"
   ]
  },
  {
   "cell_type": "markdown",
   "id": "3f60e143",
   "metadata": {},
   "source": [
    "## Result\n",
    "\n",
    "#### Using the initial model and hyperparameters given in this notebook, the final test accuracy should be roughly around 96.9%.\n",
    "\n",
    "#### Each time the code is rerun, we get a different accuracy as the batches are shuffled, the weights are initialized in a different way, etc."
   ]
  }
 ],
 "metadata": {
  "kernelspec": {
   "display_name": "Python [conda env:py3-TF2.0]",
   "language": "python",
   "name": "conda-env-py3-TF2.0-py"
  },
  "language_info": {
   "codemirror_mode": {
    "name": "ipython",
    "version": 3
   },
   "file_extension": ".py",
   "mimetype": "text/x-python",
   "name": "python",
   "nbconvert_exporter": "python",
   "pygments_lexer": "ipython3",
   "version": "3.8.8"
  }
 },
 "nbformat": 4,
 "nbformat_minor": 5
}
